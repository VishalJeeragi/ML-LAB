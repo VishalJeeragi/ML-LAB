{
 "cells": [
  {
   "cell_type": "markdown",
   "metadata": {},
   "source": [
    "#MEAN MEDIAN MODE"
   ]
  },
  {
   "cell_type": "code",
   "execution_count": 2,
   "metadata": {},
   "outputs": [
    {
     "name": "stdout",
     "output_type": "stream",
     "text": [
      "mean= 386.15999999999997\n",
      "median= 275.0\n",
      "No mode\n",
      "variance= 931069.8295999999\n",
      "Std Deviation 964.9195974794998\n",
      "Min Max normalization\n",
      "0.0\n",
      "0.01455604075691412\n",
      "0.022561863173216887\n",
      "0.03231441048034935\n",
      "0.14556040756914118\n",
      "0.17467248908296942\n",
      "0.33478893740902477\n",
      "0.338136826783115\n",
      "0.6486171761280932\n",
      "1.0\n",
      "1.3085880640465792\n",
      "Standardization\n",
      "-0.29656356938701267\n",
      "-0.28620001160860153\n",
      "-0.2805000548304754\n",
      "-0.27355647111894\n",
      "-0.19292799160290144\n",
      "-0.1722008760460792\n",
      "-0.058201740483556835\n",
      "-0.055818122194522264\n",
      "0.165236565218987\n",
      "0.4154128499898315\n",
      "0.6351202748921473\n"
     ]
    }
   ],
   "source": [
    "import math\n",
    "arr = [100,200,220,330,332.3,115.5,122.2,545.6,110,787,999]\n",
    "sum = 0\n",
    "for i in arr:\n",
    "   \n",
    "    sum = sum + i\n",
    "    \n",
    "\n",
    "mean = sum/10\n",
    "print(\"mean=\",mean)\n",
    "arr.sort()\n",
    "mid = len(arr)//2\n",
    "med = (arr[mid]+arr[mid+1])/2\n",
    "print(\"median=\",med)\n",
    "count = 1\n",
    "m=0\n",
    "diff=0.0\n",
    "var=0.0\n",
    "mod=0.0\n",
    "for i in range(0,10):\n",
    "    for j in range(i+1,10):\n",
    "        if arr[i]==arr[j]:\n",
    "            count=count+1\n",
    "    if count>m:\n",
    "        m=count\n",
    "        mod=arr[i]\n",
    "if m==1:\n",
    "    print(\"No mode\")\n",
    "else:\n",
    "    print(\"Mode=\",mod)\n",
    "        \n",
    "for i in arr:\n",
    "    diff=i-mean\n",
    "    var=var+(diff**2)\n",
    "print(\"variance=\",var)\n",
    "stdev=math.sqrt(var)\n",
    "print(\"Std Deviation\",stdev)\n",
    "diff = arr[9]-arr[0]\n",
    "print(\"Min Max normalization\")\n",
    "for i in arr:\n",
    "    y = (i-arr[0])/diff\n",
    "    print(y)\n",
    "print(\"Standardization\")    \n",
    "for i in arr:\n",
    "    stn = (i-mean)/stdev\n",
    "    print(stn)"
   ]
  },
  {
   "cell_type": "code",
   "execution_count": null,
   "metadata": {},
   "outputs": [],
   "source": []
  }
 ],
 "metadata": {
  "kernelspec": {
   "display_name": "Python 3",
   "language": "python",
   "name": "python3"
  },
  "language_info": {
   "codemirror_mode": {
    "name": "ipython",
    "version": 3
   },
   "file_extension": ".py",
   "mimetype": "text/x-python",
   "name": "python",
   "nbconvert_exporter": "python",
   "pygments_lexer": "ipython3",
   "version": "3.7.6"
  }
 },
 "nbformat": 4,
 "nbformat_minor": 4
}
