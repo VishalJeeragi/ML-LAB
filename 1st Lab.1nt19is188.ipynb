{
 "cells": [
  {
   "cell_type": "markdown",
   "metadata": {},
   "source": [
    "#Swapping 2 numbers"
   ]
  },
  {
   "cell_type": "code",
   "execution_count": 1,
   "metadata": {},
   "outputs": [
    {
     "name": "stdout",
     "output_type": "stream",
     "text": [
      "enter the number 1: 2\n",
      "enter the number 2: 4\n",
      "4\n",
      "2\n"
     ]
    }
   ],
   "source": [
    "\n",
    "a = int(input(\"enter the number 1: \"))\n",
    "b = int(input(\"enter the number 2: \"))\n",
    "a,b=b,a\n",
    "\n",
    "print(a)\n",
    "print(b)"
   ]
  },
  {
   "cell_type": "markdown",
   "metadata": {},
   "source": [
    "#Swapping 2 strings"
   ]
  },
  {
   "cell_type": "code",
   "execution_count": 2,
   "metadata": {},
   "outputs": [
    {
     "name": "stdout",
     "output_type": "stream",
     "text": [
      "enter the string 1: 2\n",
      "enter the string 2: 4\n",
      "4\n",
      "2\n"
     ]
    }
   ],
   "source": [
    "\n",
    "a = input(\"enter the string 1: \")\n",
    "b = input(\"enter the string 2: \")\n",
    "a,b=b,a\n",
    " \n",
    "print(a)\n",
    "print(b)"
   ]
  },
  {
   "cell_type": "code",
   "execution_count": 3,
   "metadata": {},
   "outputs": [
    {
     "name": "stdout",
     "output_type": "stream",
     "text": [
      "enter the number: 2\n",
      "2\n",
      "4\n",
      "6\n",
      "8\n",
      "10\n",
      "12\n",
      "14\n",
      "16\n",
      "18\n",
      "20\n"
     ]
    }
   ],
   "source": [
    "a = int(input(\"enter the number: \"))\n",
    "for i in range (1,11):\n",
    "    print(a*i)"
   ]
  },
  {
   "cell_type": "markdown",
   "metadata": {},
   "source": [
    "#Binary search"
   ]
  },
  {
   "cell_type": "code",
   "execution_count": 5,
   "metadata": {},
   "outputs": [
    {
     "name": "stdout",
     "output_type": "stream",
     "text": [
      "elements of array: 2 3 4 5 6 7 8 9\n",
      "[2, 3, 4, 5, 6, 7, 8, 9]\n",
      "enter the number to search: 6\n",
      "The number 6 is found at position 4\n"
     ]
    }
   ],
   "source": [
    "\n",
    "def binary_search(arr,low,high,x):\n",
    "    if(high >= low):\n",
    "        mid=(high+low)//2\n",
    "        \n",
    "        if arr[mid]==x:\n",
    "            return mid\n",
    "        elif arr[mid]>x:\n",
    "            return binary_search(arr,low,mid-1,x)\n",
    "        else:\n",
    "            return binary_search(arr,mid+1,high,x)\n",
    "    else:\n",
    "        return -1\n",
    "\n",
    "#arr=[1,2,3,4,5]\n",
    "#a=int(input(\"Number of elements in the array: \"))\n",
    "n=list(map(int, input(\"elements of array: \").split()))\n",
    "\n",
    "print(n)\n",
    "x = int(input(\"enter the number to search: \"))\n",
    "\n",
    "result=binary_search(n,0,len(n)-1,x)\n",
    "if (result!=-1):\n",
    "    print(\"The number \"+str(x)+\" is found at position \"+str(result))\n",
    "else:\n",
    "    print(\"No such element found\")"
   ]
  },
  {
   "cell_type": "markdown",
   "metadata": {},
   "source": [
    "#Bubble sort"
   ]
  },
  {
   "cell_type": "code",
   "execution_count": 7,
   "metadata": {},
   "outputs": [
    {
     "name": "stdout",
     "output_type": "stream",
     "text": [
      "elements of array: 4 3 2 8 4 9\n",
      "[4, 3, 2, 8, 4, 9]\n"
     ]
    },
    {
     "data": {
      "text/plain": [
       "[2, 3, 4, 4, 8, 9]"
      ]
     },
     "execution_count": 7,
     "metadata": {},
     "output_type": "execute_result"
    }
   ],
   "source": [
    "def bubble_sort(arr):\n",
    "    n=len(arr)-1\n",
    "    for i in range(0,n):\n",
    "        for j in range(0,n):\n",
    "            if arr[j]>arr[j+1]:\n",
    "                m=arr[j]\n",
    "                arr[j]=arr[j+1]\n",
    "                arr[j+1]=m\n",
    "    return arr\n",
    "\n",
    "a=list(map(int, input(\"elements of array: \").split()))\n",
    "print(a)\n",
    "bubble_sort(a) "
   ]
  },
  {
   "cell_type": "markdown",
   "metadata": {},
   "source": [
    "#Selection sort"
   ]
  },
  {
   "cell_type": "code",
   "execution_count": 8,
   "metadata": {},
   "outputs": [
    {
     "name": "stdout",
     "output_type": "stream",
     "text": [
      "elements of array: 2 7 4 1 0 3 \n",
      "[2, 7, 4, 1, 0, 3]\n"
     ]
    },
    {
     "data": {
      "text/plain": [
       "[0, 1, 2, 3, 4, 7]"
      ]
     },
     "execution_count": 8,
     "metadata": {},
     "output_type": "execute_result"
    }
   ],
   "source": [
    "def selection_sort(arr):\n",
    "    n=len(arr)\n",
    "    for i in range(0,n):\n",
    "        min_num=i\n",
    "        for j in range(0,n):\n",
    "            if(arr[j]>arr[min_num]):\n",
    "                min_num=j\n",
    "                arr[i],arr[min_num]=arr[min_num],arr[i]\n",
    "    return arr\n",
    "\n",
    "a=list(map(int, input(\"elements of array: \").split()))\n",
    "print(a)\n",
    "selection_sort(a) \n",
    "            "
   ]
  },
  {
   "cell_type": "code",
   "execution_count": 10,
   "metadata": {},
   "outputs": [],
   "source": [
    "import pandas as pd"
   ]
  },
  {
   "cell_type": "code",
   "execution_count": null,
   "metadata": {},
   "outputs": [],
   "source": []
  },
  {
   "cell_type": "code",
   "execution_count": null,
   "metadata": {},
   "outputs": [],
   "source": []
  },
  {
   "cell_type": "code",
   "execution_count": null,
   "metadata": {},
   "outputs": [],
   "source": []
  },
  {
   "cell_type": "code",
   "execution_count": null,
   "metadata": {},
   "outputs": [],
   "source": []
  }
 ],
 "metadata": {
  "kernelspec": {
   "display_name": "Python 3",
   "language": "python",
   "name": "python3"
  },
  "language_info": {
   "codemirror_mode": {
    "name": "ipython",
    "version": 3
   },
   "file_extension": ".py",
   "mimetype": "text/x-python",
   "name": "python",
   "nbconvert_exporter": "python",
   "pygments_lexer": "ipython3",
   "version": "3.7.6"
  }
 },
 "nbformat": 4,
 "nbformat_minor": 4
}
